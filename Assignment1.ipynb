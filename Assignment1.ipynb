{
 "cells": [
  {
   "cell_type": "code",
   "execution_count": 1,
   "id": "910e6bfa-ff70-49f8-892c-9a156e132a17",
   "metadata": {},
   "outputs": [
    {
     "name": "stdout",
     "output_type": "stream",
     "text": [
      "42.0\n"
     ]
    }
   ],
   "source": [
    "# 1-Convert an integer to a floating-point number.\n",
    "int_num=42\n",
    "float_number=float(int_num)\n",
    "print(float_number)"
   ]
  },
  {
   "cell_type": "code",
   "execution_count": 2,
   "id": "aae9273b-0cb9-4d33-8d09-79e62028309e",
   "metadata": {},
   "outputs": [
    {
     "name": "stdout",
     "output_type": "stream",
     "text": [
      "85\n"
     ]
    }
   ],
   "source": [
    "# 2-Convert a float to an integer.\n",
    "float_num=85.6\n",
    "int_num=int(float_num)\n",
    "print(int_num)"
   ]
  },
  {
   "cell_type": "code",
   "execution_count": 4,
   "id": "c8357fd4-5356-41de-84a6-b82161a1516c",
   "metadata": {},
   "outputs": [
    {
     "name": "stdout",
     "output_type": "stream",
     "text": [
      "56\n"
     ]
    }
   ],
   "source": [
    "# 3-Convert an integer to a string.\n",
    "int_number=56\n",
    "string_representation=str(int_number)\n",
    "print(string_representation)"
   ]
  },
  {
   "cell_type": "code",
   "execution_count": 5,
   "id": "69861eda-8f55-41bf-b7a3-889ac21f65c4",
   "metadata": {},
   "outputs": [
    {
     "name": "stdout",
     "output_type": "stream",
     "text": [
      "(1, 2, 3, 4, 5, 6)\n"
     ]
    }
   ],
   "source": [
    "# 4-Convert a list to a tuple.\n",
    "list=[1,2,3,4,5,6,]\n",
    "tuple_number=tuple(list)\n",
    "print(tuple_number)"
   ]
  },
  {
   "cell_type": "code",
   "execution_count": 1,
   "id": "41b287fb-5302-4800-8b9c-2bb0f8a23593",
   "metadata": {},
   "outputs": [
    {
     "name": "stdout",
     "output_type": "stream",
     "text": [
      "[1, 2, 3, 4, 5]\n"
     ]
    }
   ],
   "source": [
    "# 5-Convert a tuple to a list.\n",
    "my_tuple = (1, 2, 3, 4, 5)\n",
    "\n",
    "my_list = list(my_tuple)\n",
    "\n",
    "print(my_list)\n"
   ]
  },
  {
   "cell_type": "code",
   "execution_count": 6,
   "id": "7837c5e2-7bf5-46ac-8386-ea16c13587a4",
   "metadata": {},
   "outputs": [
    {
     "name": "stdout",
     "output_type": "stream",
     "text": [
      "0b111100\n"
     ]
    }
   ],
   "source": [
    "# 6-Convert a decimal number to binary.\n",
    "decimal_number=60\n",
    "binary_number=bin(decimal_number)\n",
    "print(binary_number)"
   ]
  },
  {
   "cell_type": "code",
   "execution_count": 7,
   "id": "bf663c6a-2f50-49d8-8db6-2711efb4f8b0",
   "metadata": {},
   "outputs": [
    {
     "name": "stdout",
     "output_type": "stream",
     "text": [
      "True\n"
     ]
    }
   ],
   "source": [
    "# 7-Convert a non zero number to boolean.\n",
    "number=42\n",
    "boolean_number=bool(number)\n",
    "print(boolean_number)"
   ]
  },
  {
   "cell_type": "code",
   "execution_count": null,
   "id": "d4384fb7-be88-46d0-b567-982ac71eb3ab",
   "metadata": {},
   "outputs": [],
   "source": []
  }
 ],
 "metadata": {
  "kernelspec": {
   "display_name": "Python 3 (ipykernel)",
   "language": "python",
   "name": "python3"
  },
  "language_info": {
   "codemirror_mode": {
    "name": "ipython",
    "version": 3
   },
   "file_extension": ".py",
   "mimetype": "text/x-python",
   "name": "python",
   "nbconvert_exporter": "python",
   "pygments_lexer": "ipython3",
   "version": "3.10.8"
  }
 },
 "nbformat": 4,
 "nbformat_minor": 5
}
